{
  "cells": [
    {
      "cell_type": "code",
      "execution_count": 1,
      "metadata": {
        "id": "YcgNP6dCSush"
      },
      "outputs": [],
      "source": [
        "import pandas as pd \n",
        "import numpy as np "
      ]
    },
    {
      "cell_type": "code",
      "execution_count": 2,
      "metadata": {
        "colab": {
          "base_uri": "https://localhost:8080/",
          "height": 206
        },
        "id": "PkClRU0CTV72",
        "outputId": "0114277d-29e5-4acb-80ef-29d103cf527e"
      },
      "outputs": [
        {
          "data": {
            "text/html": [
              "<div>\n",
              "<style scoped>\n",
              "    .dataframe tbody tr th:only-of-type {\n",
              "        vertical-align: middle;\n",
              "    }\n",
              "\n",
              "    .dataframe tbody tr th {\n",
              "        vertical-align: top;\n",
              "    }\n",
              "\n",
              "    .dataframe thead th {\n",
              "        text-align: right;\n",
              "    }\n",
              "</style>\n",
              "<table border=\"1\" class=\"dataframe\">\n",
              "  <thead>\n",
              "    <tr style=\"text-align: right;\">\n",
              "      <th></th>\n",
              "      <th>Период</th>\n",
              "      <th>Доходы_1</th>\n",
              "      <th>Доходы_2</th>\n",
              "    </tr>\n",
              "  </thead>\n",
              "  <tbody>\n",
              "    <tr>\n",
              "      <th>0</th>\n",
              "      <td>2019-01-01</td>\n",
              "      <td>9334750.309</td>\n",
              "      <td>3.954998e+06</td>\n",
              "    </tr>\n",
              "    <tr>\n",
              "      <th>1</th>\n",
              "      <td>2019-02-01</td>\n",
              "      <td>9285036.374</td>\n",
              "      <td>3.917801e+06</td>\n",
              "    </tr>\n",
              "    <tr>\n",
              "      <th>2</th>\n",
              "      <td>2019-03-01</td>\n",
              "      <td>9221571.473</td>\n",
              "      <td>3.858750e+06</td>\n",
              "    </tr>\n",
              "    <tr>\n",
              "      <th>3</th>\n",
              "      <td>2019-04-01</td>\n",
              "      <td>9223271.382</td>\n",
              "      <td>3.843909e+06</td>\n",
              "    </tr>\n",
              "    <tr>\n",
              "      <th>4</th>\n",
              "      <td>2019-05-01</td>\n",
              "      <td>9211187.625</td>\n",
              "      <td>3.817744e+06</td>\n",
              "    </tr>\n",
              "  </tbody>\n",
              "</table>\n",
              "</div>"
            ],
            "text/plain": [
              "      Период     Доходы_1      Доходы_2\n",
              "0 2019-01-01  9334750.309  3.954998e+06\n",
              "1 2019-02-01  9285036.374  3.917801e+06\n",
              "2 2019-03-01  9221571.473  3.858750e+06\n",
              "3 2019-04-01  9223271.382  3.843909e+06\n",
              "4 2019-05-01  9211187.625  3.817744e+06"
            ]
          },
          "execution_count": 2,
          "metadata": {},
          "output_type": "execute_result"
        }
      ],
      "source": [
        "df = pd.read_excel('Project1_dataset.xlsx')\n",
        "df['Период'] = pd.to_datetime(df['Период'], format = '%Y%m') #convert to datetime\n",
        "df.head()"
      ]
    },
    {
      "attachments": {},
      "cell_type": "markdown",
      "metadata": {},
      "source": [
        "Датафрейм содержит в себе временную и таргетную колонку, что значит это time series analysis. "
      ]
    },
    {
      "cell_type": "code",
      "execution_count": 3,
      "metadata": {
        "colab": {
          "base_uri": "https://localhost:8080/"
        },
        "id": "37R_vZ7CV5Xv",
        "outputId": "f8a8e2e2-5bf3-4064-bb33-c03cf96ec6ca"
      },
      "outputs": [
        {
          "name": "stdout",
          "output_type": "stream",
          "text": [
            "      Период     Доходы_1\n",
            "0 2019-01-01  9334750.309\n",
            "1 2019-02-01  9285036.374\n",
            "2 2019-03-01  9221571.473\n",
            "3 2019-04-01  9223271.382\n",
            "4 2019-05-01  9211187.625\n",
            "\n",
            "       Период      Доходы_2\n",
            "0 2019-01-01  3.954998e+06\n",
            "1 2019-02-01  3.917801e+06\n",
            "2 2019-03-01  3.858750e+06\n",
            "3 2019-04-01  3.843909e+06\n",
            "4 2019-05-01  3.817744e+06\n"
          ]
        }
      ],
      "source": [
        "df1 = df[['Период','Доходы_1']]\n",
        "df2 = df[['Период', 'Доходы_2']]\n",
        "print(df1.head())\n",
        "print('\\n',df2.head())\n",
        "#divinding into 2 datasets because we have 2 target features"
      ]
    },
    {
      "cell_type": "code",
      "execution_count": 4,
      "metadata": {
        "id": "nuYr4HT1WPB6"
      },
      "outputs": [
        {
          "data": {
            "text/html": [
              "<div>\n",
              "<style scoped>\n",
              "    .dataframe tbody tr th:only-of-type {\n",
              "        vertical-align: middle;\n",
              "    }\n",
              "\n",
              "    .dataframe tbody tr th {\n",
              "        vertical-align: top;\n",
              "    }\n",
              "\n",
              "    .dataframe thead th {\n",
              "        text-align: right;\n",
              "    }\n",
              "</style>\n",
              "<table border=\"1\" class=\"dataframe\">\n",
              "  <thead>\n",
              "    <tr style=\"text-align: right;\">\n",
              "      <th></th>\n",
              "      <th>Доходы_2</th>\n",
              "    </tr>\n",
              "    <tr>\n",
              "      <th>Период</th>\n",
              "      <th></th>\n",
              "    </tr>\n",
              "  </thead>\n",
              "  <tbody>\n",
              "    <tr>\n",
              "      <th>2019-01-01</th>\n",
              "      <td>3.954998e+06</td>\n",
              "    </tr>\n",
              "    <tr>\n",
              "      <th>2019-02-01</th>\n",
              "      <td>3.917801e+06</td>\n",
              "    </tr>\n",
              "    <tr>\n",
              "      <th>2019-03-01</th>\n",
              "      <td>3.858750e+06</td>\n",
              "    </tr>\n",
              "    <tr>\n",
              "      <th>2019-04-01</th>\n",
              "      <td>3.843909e+06</td>\n",
              "    </tr>\n",
              "    <tr>\n",
              "      <th>2019-05-01</th>\n",
              "      <td>3.817744e+06</td>\n",
              "    </tr>\n",
              "    <tr>\n",
              "      <th>2019-06-01</th>\n",
              "      <td>3.784239e+06</td>\n",
              "    </tr>\n",
              "    <tr>\n",
              "      <th>2019-07-01</th>\n",
              "      <td>3.761693e+06</td>\n",
              "    </tr>\n",
              "    <tr>\n",
              "      <th>2019-08-01</th>\n",
              "      <td>3.722387e+06</td>\n",
              "    </tr>\n",
              "    <tr>\n",
              "      <th>2019-09-01</th>\n",
              "      <td>3.701241e+06</td>\n",
              "    </tr>\n",
              "    <tr>\n",
              "      <th>2019-10-01</th>\n",
              "      <td>3.674583e+06</td>\n",
              "    </tr>\n",
              "    <tr>\n",
              "      <th>2019-11-01</th>\n",
              "      <td>3.656831e+06</td>\n",
              "    </tr>\n",
              "    <tr>\n",
              "      <th>2019-12-01</th>\n",
              "      <td>3.646283e+06</td>\n",
              "    </tr>\n",
              "    <tr>\n",
              "      <th>2020-01-01</th>\n",
              "      <td>3.619268e+06</td>\n",
              "    </tr>\n",
              "    <tr>\n",
              "      <th>2020-02-01</th>\n",
              "      <td>3.605335e+06</td>\n",
              "    </tr>\n",
              "    <tr>\n",
              "      <th>2020-03-01</th>\n",
              "      <td>3.598263e+06</td>\n",
              "    </tr>\n",
              "    <tr>\n",
              "      <th>2020-04-01</th>\n",
              "      <td>3.612079e+06</td>\n",
              "    </tr>\n",
              "    <tr>\n",
              "      <th>2020-05-01</th>\n",
              "      <td>3.608993e+06</td>\n",
              "    </tr>\n",
              "    <tr>\n",
              "      <th>2020-06-01</th>\n",
              "      <td>3.570075e+06</td>\n",
              "    </tr>\n",
              "    <tr>\n",
              "      <th>2020-07-01</th>\n",
              "      <td>3.554326e+06</td>\n",
              "    </tr>\n",
              "    <tr>\n",
              "      <th>2020-08-01</th>\n",
              "      <td>3.543186e+06</td>\n",
              "    </tr>\n",
              "    <tr>\n",
              "      <th>2020-09-01</th>\n",
              "      <td>3.537266e+06</td>\n",
              "    </tr>\n",
              "    <tr>\n",
              "      <th>2020-10-01</th>\n",
              "      <td>3.522774e+06</td>\n",
              "    </tr>\n",
              "    <tr>\n",
              "      <th>2020-11-01</th>\n",
              "      <td>3.498679e+06</td>\n",
              "    </tr>\n",
              "    <tr>\n",
              "      <th>2020-12-01</th>\n",
              "      <td>3.483145e+06</td>\n",
              "    </tr>\n",
              "    <tr>\n",
              "      <th>2021-01-01</th>\n",
              "      <td>3.464131e+06</td>\n",
              "    </tr>\n",
              "    <tr>\n",
              "      <th>2021-02-01</th>\n",
              "      <td>3.443449e+06</td>\n",
              "    </tr>\n",
              "    <tr>\n",
              "      <th>2021-03-01</th>\n",
              "      <td>3.423878e+06</td>\n",
              "    </tr>\n",
              "    <tr>\n",
              "      <th>2021-04-01</th>\n",
              "      <td>3.408271e+06</td>\n",
              "    </tr>\n",
              "    <tr>\n",
              "      <th>2021-05-01</th>\n",
              "      <td>3.384133e+06</td>\n",
              "    </tr>\n",
              "    <tr>\n",
              "      <th>2021-06-01</th>\n",
              "      <td>3.356314e+06</td>\n",
              "    </tr>\n",
              "    <tr>\n",
              "      <th>2021-07-01</th>\n",
              "      <td>3.339690e+06</td>\n",
              "    </tr>\n",
              "    <tr>\n",
              "      <th>2021-08-01</th>\n",
              "      <td>3.323258e+06</td>\n",
              "    </tr>\n",
              "    <tr>\n",
              "      <th>2021-09-01</th>\n",
              "      <td>3.303988e+06</td>\n",
              "    </tr>\n",
              "    <tr>\n",
              "      <th>2021-10-01</th>\n",
              "      <td>3.282178e+06</td>\n",
              "    </tr>\n",
              "    <tr>\n",
              "      <th>2021-11-01</th>\n",
              "      <td>3.262282e+06</td>\n",
              "    </tr>\n",
              "    <tr>\n",
              "      <th>2021-12-01</th>\n",
              "      <td>3.240876e+06</td>\n",
              "    </tr>\n",
              "  </tbody>\n",
              "</table>\n",
              "</div>"
            ],
            "text/plain": [
              "                Доходы_2\n",
              "Период                  \n",
              "2019-01-01  3.954998e+06\n",
              "2019-02-01  3.917801e+06\n",
              "2019-03-01  3.858750e+06\n",
              "2019-04-01  3.843909e+06\n",
              "2019-05-01  3.817744e+06\n",
              "2019-06-01  3.784239e+06\n",
              "2019-07-01  3.761693e+06\n",
              "2019-08-01  3.722387e+06\n",
              "2019-09-01  3.701241e+06\n",
              "2019-10-01  3.674583e+06\n",
              "2019-11-01  3.656831e+06\n",
              "2019-12-01  3.646283e+06\n",
              "2020-01-01  3.619268e+06\n",
              "2020-02-01  3.605335e+06\n",
              "2020-03-01  3.598263e+06\n",
              "2020-04-01  3.612079e+06\n",
              "2020-05-01  3.608993e+06\n",
              "2020-06-01  3.570075e+06\n",
              "2020-07-01  3.554326e+06\n",
              "2020-08-01  3.543186e+06\n",
              "2020-09-01  3.537266e+06\n",
              "2020-10-01  3.522774e+06\n",
              "2020-11-01  3.498679e+06\n",
              "2020-12-01  3.483145e+06\n",
              "2021-01-01  3.464131e+06\n",
              "2021-02-01  3.443449e+06\n",
              "2021-03-01  3.423878e+06\n",
              "2021-04-01  3.408271e+06\n",
              "2021-05-01  3.384133e+06\n",
              "2021-06-01  3.356314e+06\n",
              "2021-07-01  3.339690e+06\n",
              "2021-08-01  3.323258e+06\n",
              "2021-09-01  3.303988e+06\n",
              "2021-10-01  3.282178e+06\n",
              "2021-11-01  3.262282e+06\n",
              "2021-12-01  3.240876e+06"
            ]
          },
          "execution_count": 4,
          "metadata": {},
          "output_type": "execute_result"
        }
      ],
      "source": [
        "df1.set_index('Период')\n",
        "df2.set_index('Период')\n",
        "#set index of df to Period column"
      ]
    },
    {
      "cell_type": "code",
      "execution_count": 5,
      "metadata": {
        "id": "2QLqg_I0Tllk"
      },
      "outputs": [],
      "source": [
        "import matplotlib.pyplot as plt\n",
        "import seaborn as sns"
      ]
    },
    {
      "cell_type": "code",
      "execution_count": 6,
      "metadata": {
        "colab": {
          "base_uri": "https://localhost:8080/",
          "height": 525
        },
        "id": "mNxdAoi_ZqEH",
        "outputId": "780f76c8-3f99-4a0d-b7a9-a67d8129ecbb"
      },
      "outputs": [
        {
          "data": {
            "text/plain": [
              "<AxesSubplot:xlabel='Период', ylabel='Доходы_1'>"
            ]
          },
          "execution_count": 6,
          "metadata": {},
          "output_type": "execute_result"
        },
        {
          "data": {
            "image/png": "[encoded data removed]",
            "text/plain": [
              "<Figure size 864x576 with 1 Axes>"
            ]
          },
          "metadata": {
            "needs_background": "light"
          },
          "output_type": "display_data"
        }
      ],
      "source": [
        "plt.figure(figsize = (12, 8))\n",
        "sns.lineplot(data = df1, x = 'Период', y = 'Доходы_1')"
      ]
    },
    {
      "cell_type": "code",
      "execution_count": 7,
      "metadata": {
        "colab": {
          "base_uri": "https://localhost:8080/",
          "height": 525
        },
        "id": "F0RW4TrGUnSG",
        "outputId": "a35be60f-e97b-413a-9594-761746a51385"
      },
      "outputs": [
        {
          "data": {
            "text/plain": [
              "<AxesSubplot:xlabel='Период', ylabel='Доходы_2'>"
            ]
          },
          "execution_count": 7,
          "metadata": {},
          "output_type": "execute_result"
        },
        {
          "data": {
            "image/png": "[encoded data removed]",
            "text/plain": [
              "<Figure size 864x576 with 1 Axes>"
            ]
          },
          "metadata": {
            "needs_background": "light"
          },
          "output_type": "display_data"
        }
      ],
      "source": [
        "plt.figure(figsize = (12, 8))\n",
        "sns.lineplot(data = df2, x = 'Период', y = 'Доходы_2')"
      ]
    },
    {
      "attachments": {},
      "cell_type": "markdown",
      "metadata": {},
      "source": [
        "Дальше для построения модели и предугадывания значений я буду использовать arima."
      ]
    },
    {
      "cell_type": "code",
      "execution_count": 8,
      "metadata": {
        "id": "n8AEdBhtWn8O"
      },
      "outputs": [],
      "source": [
        "from pmdarima import auto_arima"
      ]
    },
    {
      "cell_type": "code",
      "execution_count": 9,
      "metadata": {
        "colab": {
          "base_uri": "https://localhost:8080/",
          "height": 714
        },
        "id": "v6HP1d3kWw-c",
        "outputId": "f52dc3b9-c1c6-4dd8-808a-88f60f70f14d"
      },
      "outputs": [
        {
          "name": "stdout",
          "output_type": "stream",
          "text": [
            "Performing stepwise search to minimize aic\n",
            " ARIMA(2,1,2)(0,0,0)[0] intercept   : AIC=inf, Time=0.23 sec\n",
            " ARIMA(0,1,0)(0,0,0)[0] intercept   : AIC=900.796, Time=0.01 sec\n",
            " ARIMA(1,1,0)(0,0,0)[0] intercept   : AIC=902.700, Time=0.02 sec\n",
            " ARIMA(0,1,1)(0,0,0)[0] intercept   : AIC=901.779, Time=0.02 sec\n",
            " ARIMA(0,1,0)(0,0,0)[0]             : AIC=906.884, Time=0.01 sec\n",
            " ARIMA(1,1,1)(0,0,0)[0] intercept   : AIC=902.948, Time=0.06 sec\n",
            "\n",
            "Best model:  ARIMA(0,1,0)(0,0,0)[0] intercept\n",
            "Total fit time: 0.355 seconds\n"
          ]
        },
        {
          "data": {
            "text/html": [
              "<table class=\"simpletable\">\n",
              "<caption>SARIMAX Results</caption>\n",
              "<tr>\n",
              "  <th>Dep. Variable:</th>           <td>y</td>        <th>  No. Observations:  </th>    <td>36</td>   \n",
              "</tr>\n",
              "<tr>\n",
              "  <th>Model:</th>           <td>SARIMAX(0, 1, 0)</td> <th>  Log Likelihood     </th> <td>-448.398</td>\n",
              "</tr>\n",
              "<tr>\n",
              "  <th>Date:</th>            <td>Thu, 30 Mar 2023</td> <th>  AIC                </th>  <td>900.796</td>\n",
              "</tr>\n",
              "<tr>\n",
              "  <th>Time:</th>                <td>22:23:53</td>     <th>  BIC                </th>  <td>903.906</td>\n",
              "</tr>\n",
              "<tr>\n",
              "  <th>Sample:</th>                  <td>0</td>        <th>  HQIC               </th>  <td>901.869</td>\n",
              "</tr>\n",
              "<tr>\n",
              "  <th></th>                       <td> - 36</td>      <th>                     </th>     <td> </td>   \n",
              "</tr>\n",
              "<tr>\n",
              "  <th>Covariance Type:</th>        <td>opg</td>       <th>                     </th>     <td> </td>   \n",
              "</tr>\n",
              "</table>\n",
              "<table class=\"simpletable\">\n",
              "<tr>\n",
              "      <td></td>         <th>coef</th>     <th>std err</th>      <th>z</th>      <th>P>|z|</th>  <th>[0.025</th>    <th>0.975]</th>  \n",
              "</tr>\n",
              "<tr>\n",
              "  <th>intercept</th> <td> 4.516e+04</td> <td> 2.33e+04</td> <td>    1.936</td> <td> 0.053</td> <td> -549.914</td> <td> 9.09e+04</td>\n",
              "</tr>\n",
              "<tr>\n",
              "  <th>sigma2</th>    <td> 7.858e+09</td> <td> 2.11e+09</td> <td>    3.716</td> <td> 0.000</td> <td> 3.71e+09</td> <td>  1.2e+10</td>\n",
              "</tr>\n",
              "</table>\n",
              "<table class=\"simpletable\">\n",
              "<tr>\n",
              "  <th>Ljung-Box (L1) (Q):</th>     <td>2.91</td> <th>  Jarque-Bera (JB):  </th> <td>17.93</td>\n",
              "</tr>\n",
              "<tr>\n",
              "  <th>Prob(Q):</th>                <td>0.09</td> <th>  Prob(JB):          </th> <td>0.00</td> \n",
              "</tr>\n",
              "<tr>\n",
              "  <th>Heteroskedasticity (H):</th> <td>1.44</td> <th>  Skew:              </th> <td>1.50</td> \n",
              "</tr>\n",
              "<tr>\n",
              "  <th>Prob(H) (two-sided):</th>    <td>0.53</td> <th>  Kurtosis:          </th> <td>4.82</td> \n",
              "</tr>\n",
              "</table><br/><br/>Warnings:<br/>[1] Covariance matrix calculated using the outer product of gradients (complex-step)."
            ],
            "text/plain": [
              "<class 'statsmodels.iolib.summary.Summary'>\n",
              "\"\"\"\n",
              "                               SARIMAX Results                                \n",
              "==============================================================================\n",
              "Dep. Variable:                      y   No. Observations:                   36\n",
              "Model:               SARIMAX(0, 1, 0)   Log Likelihood                -448.398\n",
              "Date:                Thu, 30 Mar 2023   AIC                            900.796\n",
              "Time:                        22:23:53   BIC                            903.906\n",
              "Sample:                             0   HQIC                           901.869\n",
              "                                 - 36                                         \n",
              "Covariance Type:                  opg                                         \n",
              "==============================================================================\n",
              "                 coef    std err          z      P>|z|      [0.025      0.975]\n",
              "------------------------------------------------------------------------------\n",
              "intercept   4.516e+04   2.33e+04      1.936      0.053    -549.914    9.09e+04\n",
              "sigma2      7.858e+09   2.11e+09      3.716      0.000    3.71e+09     1.2e+10\n",
              "===================================================================================\n",
              "Ljung-Box (L1) (Q):                   2.91   Jarque-Bera (JB):                17.93\n",
              "Prob(Q):                              0.09   Prob(JB):                         0.00\n",
              "Heteroskedasticity (H):               1.44   Skew:                             1.50\n",
              "Prob(H) (two-sided):                  0.53   Kurtosis:                         4.82\n",
              "===================================================================================\n",
              "\n",
              "Warnings:\n",
              "[1] Covariance matrix calculated using the outer product of gradients (complex-step).\n",
              "\"\"\""
            ]
          },
          "execution_count": 9,
          "metadata": {},
          "output_type": "execute_result"
        }
      ],
      "source": [
        "stepwise_fit = auto_arima(df1['Доходы_1'], trace = True, suppress_warnings = True)\n",
        "stepwise_fit.summary()\n",
        "#смотрим summary, чтоб узнать какой порядок модели самый подходящий для нас"
      ]
    },
    {
      "cell_type": "code",
      "execution_count": 10,
      "metadata": {
        "colab": {
          "base_uri": "https://localhost:8080/",
          "height": 895
        },
        "id": "2YvKOZexYRw9",
        "outputId": "a52df9b3-c04a-4152-9ad1-ae65f04ea298"
      },
      "outputs": [
        {
          "name": "stdout",
          "output_type": "stream",
          "text": [
            "Performing stepwise search to minimize aic\n",
            " ARIMA(2,1,2)(0,0,0)[0] intercept   : AIC=inf, Time=0.45 sec\n",
            " ARIMA(0,1,0)(0,0,0)[0] intercept   : AIC=761.315, Time=0.01 sec\n",
            " ARIMA(1,1,0)(0,0,0)[0] intercept   : AIC=770.236, Time=0.06 sec\n",
            " ARIMA(0,1,1)(0,0,0)[0] intercept   : AIC=764.633, Time=0.02 sec\n",
            " ARIMA(0,1,0)(0,0,0)[0]             : AIC=806.509, Time=0.01 sec\n",
            " ARIMA(1,1,1)(0,0,0)[0] intercept   : AIC=760.327, Time=0.07 sec\n",
            " ARIMA(2,1,1)(0,0,0)[0] intercept   : AIC=753.326, Time=0.11 sec\n",
            " ARIMA(2,1,0)(0,0,0)[0] intercept   : AIC=752.510, Time=0.02 sec\n",
            " ARIMA(3,1,0)(0,0,0)[0] intercept   : AIC=770.505, Time=0.03 sec\n",
            " ARIMA(3,1,1)(0,0,0)[0] intercept   : AIC=753.470, Time=0.13 sec\n",
            " ARIMA(2,1,0)(0,0,0)[0]             : AIC=834.596, Time=0.02 sec\n",
            "\n",
            "Best model:  ARIMA(2,1,0)(0,0,0)[0] intercept\n",
            "Total fit time: 0.935 seconds\n"
          ]
        },
        {
          "data": {
            "text/html": [
              "<table class=\"simpletable\">\n",
              "<caption>SARIMAX Results</caption>\n",
              "<tr>\n",
              "  <th>Dep. Variable:</th>           <td>y</td>        <th>  No. Observations:  </th>    <td>36</td>   \n",
              "</tr>\n",
              "<tr>\n",
              "  <th>Model:</th>           <td>SARIMAX(2, 1, 0)</td> <th>  Log Likelihood     </th> <td>-372.255</td>\n",
              "</tr>\n",
              "<tr>\n",
              "  <th>Date:</th>            <td>Thu, 30 Mar 2023</td> <th>  AIC                </th>  <td>752.510</td>\n",
              "</tr>\n",
              "<tr>\n",
              "  <th>Time:</th>                <td>22:23:54</td>     <th>  BIC                </th>  <td>758.732</td>\n",
              "</tr>\n",
              "<tr>\n",
              "  <th>Sample:</th>                  <td>0</td>        <th>  HQIC               </th>  <td>754.658</td>\n",
              "</tr>\n",
              "<tr>\n",
              "  <th></th>                       <td> - 36</td>      <th>                     </th>     <td> </td>   \n",
              "</tr>\n",
              "<tr>\n",
              "  <th>Covariance Type:</th>        <td>opg</td>       <th>                     </th>     <td> </td>   \n",
              "</tr>\n",
              "</table>\n",
              "<table class=\"simpletable\">\n",
              "<tr>\n",
              "      <td></td>         <th>coef</th>     <th>std err</th>      <th>z</th>      <th>P>|z|</th>  <th>[0.025</th>    <th>0.975]</th>  \n",
              "</tr>\n",
              "<tr>\n",
              "  <th>intercept</th> <td>-1.612e+04</td> <td> 1751.622</td> <td>   -9.203</td> <td> 0.000</td> <td>-1.96e+04</td> <td>-1.27e+04</td>\n",
              "</tr>\n",
              "<tr>\n",
              "  <th>ar.L1</th>     <td>   -0.0053</td> <td>    0.033</td> <td>   -0.161</td> <td> 0.872</td> <td>   -0.070</td> <td>    0.059</td>\n",
              "</tr>\n",
              "<tr>\n",
              "  <th>ar.L2</th>     <td>   -0.0109</td> <td>    0.039</td> <td>   -0.278</td> <td> 0.781</td> <td>   -0.088</td> <td>    0.066</td>\n",
              "</tr>\n",
              "<tr>\n",
              "  <th>sigma2</th>    <td> 9.464e+07</td> <td>    0.014</td> <td> 6.77e+09</td> <td> 0.000</td> <td> 9.46e+07</td> <td> 9.46e+07</td>\n",
              "</tr>\n",
              "</table>\n",
              "<table class=\"simpletable\">\n",
              "<tr>\n",
              "  <th>Ljung-Box (L1) (Q):</th>     <td>3.23</td> <th>  Jarque-Bera (JB):  </th> <td>11.03</td>\n",
              "</tr>\n",
              "<tr>\n",
              "  <th>Prob(Q):</th>                <td>0.07</td> <th>  Prob(JB):          </th> <td>0.00</td> \n",
              "</tr>\n",
              "<tr>\n",
              "  <th>Heteroskedasticity (H):</th> <td>0.27</td> <th>  Skew:              </th> <td>0.64</td> \n",
              "</tr>\n",
              "<tr>\n",
              "  <th>Prob(H) (two-sided):</th>    <td>0.03</td> <th>  Kurtosis:          </th> <td>5.43</td> \n",
              "</tr>\n",
              "</table><br/><br/>Warnings:<br/>[1] Covariance matrix calculated using the outer product of gradients (complex-step).<br/>[2] Covariance matrix is singular or near-singular, with condition number 3.13e+28. Standard errors may be unstable."
            ],
            "text/plain": [
              "<class 'statsmodels.iolib.summary.Summary'>\n",
              "\"\"\"\n",
              "                               SARIMAX Results                                \n",
              "==============================================================================\n",
              "Dep. Variable:                      y   No. Observations:                   36\n",
              "Model:               SARIMAX(2, 1, 0)   Log Likelihood                -372.255\n",
              "Date:                Thu, 30 Mar 2023   AIC                            752.510\n",
              "Time:                        22:23:54   BIC                            758.732\n",
              "Sample:                             0   HQIC                           754.658\n",
              "                                 - 36                                         \n",
              "Covariance Type:                  opg                                         \n",
              "==============================================================================\n",
              "                 coef    std err          z      P>|z|      [0.025      0.975]\n",
              "------------------------------------------------------------------------------\n",
              "intercept  -1.612e+04   1751.622     -9.203      0.000   -1.96e+04   -1.27e+04\n",
              "ar.L1         -0.0053      0.033     -0.161      0.872      -0.070       0.059\n",
              "ar.L2         -0.0109      0.039     -0.278      0.781      -0.088       0.066\n",
              "sigma2      9.464e+07      0.014   6.77e+09      0.000    9.46e+07    9.46e+07\n",
              "===================================================================================\n",
              "Ljung-Box (L1) (Q):                   3.23   Jarque-Bera (JB):                11.03\n",
              "Prob(Q):                              0.07   Prob(JB):                         0.00\n",
              "Heteroskedasticity (H):               0.27   Skew:                             0.64\n",
              "Prob(H) (two-sided):                  0.03   Kurtosis:                         5.43\n",
              "===================================================================================\n",
              "\n",
              "Warnings:\n",
              "[1] Covariance matrix calculated using the outer product of gradients (complex-step).\n",
              "[2] Covariance matrix is singular or near-singular, with condition number 3.13e+28. Standard errors may be unstable.\n",
              "\"\"\""
            ]
          },
          "execution_count": 10,
          "metadata": {},
          "output_type": "execute_result"
        }
      ],
      "source": [
        "stepwise_fit2 = auto_arima(df2['Доходы_2'], trace = True, suppress_warnings = True)\n",
        "stepwise_fit2.summary()"
      ]
    },
    {
      "cell_type": "code",
      "execution_count": 11,
      "metadata": {
        "id": "X-McERjtXON7"
      },
      "outputs": [],
      "source": [
        "import statsmodels.api as sm"
      ]
    },
    {
      "cell_type": "code",
      "execution_count": 12,
      "metadata": {
        "id": "KxFpwiP6X_JB"
      },
      "outputs": [
        {
          "name": "stderr",
          "output_type": "stream",
          "text": [
            "c:\\python\\lib\\site-packages\\statsmodels\\tsa\\statespace\\sarimax.py:978: UserWarning: Non-invertible starting MA parameters found. Using zeros as starting parameters.\n",
            "  warn('Non-invertible starting MA parameters found.'\n",
            "c:\\python\\lib\\site-packages\\statsmodels\\tsa\\statespace\\sarimax.py:966: UserWarning: Non-stationary starting autoregressive parameters found. Using zeros as starting parameters.\n",
            "  warn('Non-stationary starting autoregressive parameters'\n",
            "c:\\python\\lib\\site-packages\\statsmodels\\tsa\\statespace\\sarimax.py:978: UserWarning: Non-invertible starting MA parameters found. Using zeros as starting parameters.\n",
            "  warn('Non-invertible starting MA parameters found.'\n"
          ]
        }
      ],
      "source": [
        "model1 = sm.tsa.arima.ARIMA(df1['Доходы_1'], order = (1,2,1)) #строим модель\n",
        "model2 = sm.tsa.arima.ARIMA(df2['Доходы_2'], order = (2,1,1))\n",
        "model_fit1 = model1.fit()\n",
        "model_fit2 = model2.fit()\n",
        "# print(model1.summary())\n",
        "# print(model2.summary())"
      ]
    },
    {
      "cell_type": "code",
      "execution_count": 13,
      "metadata": {
        "id": "yuKhMoUmYkCf"
      },
      "outputs": [],
      "source": [
        "pred1 = model_fit1.predict(end = (len(df1) - 1) + 6) #ну тут все понятно\n",
        "pred2 = model_fit2.predict(end = (len(df2) - 1) + 6)\n",
        "# print(pred1)\n",
        "# print(pred2)"
      ]
    },
    {
      "cell_type": "code",
      "execution_count": 14,
      "metadata": {
        "colab": {
          "base_uri": "https://localhost:8080/",
          "height": 337
        },
        "id": "3Cw8OxwsqtnK",
        "outputId": "7dfa3b17-38d5-4692-d393-be5c2d041661"
      },
      "outputs": [
        {
          "data": {
            "text/plain": [
              "<matplotlib.legend.Legend at 0x20fefa4e610>"
            ]
          },
          "execution_count": 14,
          "metadata": {},
          "output_type": "execute_result"
        },
        {
          "data": {
            "image/png": "[encoded data removed]",
            "text/plain": [
              "<Figure size 864x360 with 1 Axes>"
            ]
          },
          "metadata": {
            "needs_background": "light"
          },
          "output_type": "display_data"
        }
      ],
      "source": [
        "plt.figure(figsize = (12, 5))\n",
        "plt.plot(pred1, label = 'Prediction', alpha = 0.8)\n",
        "plt.plot(df1['Доходы_1'], label = 'Actual')\n",
        "plt.legend() "
      ]
    },
    {
      "cell_type": "code",
      "execution_count": 15,
      "metadata": {
        "colab": {
          "base_uri": "https://localhost:8080/",
          "height": 337
        },
        "id": "FbqMLD5ki9Gu",
        "outputId": "6d394e57-69a2-440c-eb2f-4212cc41c095"
      },
      "outputs": [
        {
          "data": {
            "text/plain": [
              "<matplotlib.legend.Legend at 0x20fefb13970>"
            ]
          },
          "execution_count": 15,
          "metadata": {},
          "output_type": "execute_result"
        },
        {
          "data": {
            "image/png": "[encoded data removed]",
            "text/plain": [
              "<Figure size 864x360 with 1 Axes>"
            ]
          },
          "metadata": {
            "needs_background": "light"
          },
          "output_type": "display_data"
        }
      ],
      "source": [
        "plt.figure(figsize = (12, 5))\n",
        "plt.plot(pred2, label = 'Prediction', alpha = 0.8)\n",
        "plt.plot(df2['Доходы_2'], label = 'Actual')\n",
        "plt.legend()"
      ]
    },
    {
      "cell_type": "code",
      "execution_count": 16,
      "metadata": {},
      "outputs": [],
      "source": [
        "import datetime\n",
        "from dateutil.relativedelta import relativedelta\n",
        "start = datetime.datetime.strptime(\"2022-01\", \"%Y-%m\")\n",
        "date_list = [start + relativedelta(months=x) for x in range(0,6)]"
      ]
    },
    {
      "cell_type": "code",
      "execution_count": 17,
      "metadata": {},
      "outputs": [],
      "source": [
        "last_six1 = pred1[-6:]\n",
        "last_six2 = pred2[-6:]\n",
        "last_six12 = last_six1+last_six2"
      ]
    },
    {
      "cell_type": "code",
      "execution_count": 18,
      "metadata": {},
      "outputs": [],
      "source": [
        "data = {'Период' : date_list, 'Доходы_1_pred' : last_six1, 'Доходы_2_pred' : last_six2, 'Общий_доход_pred' : last_six12}"
      ]
    },
    {
      "cell_type": "code",
      "execution_count": 19,
      "metadata": {},
      "outputs": [
        {
          "data": {
            "text/html": [
              "<div>\n",
              "<style scoped>\n",
              "    .dataframe tbody tr th:only-of-type {\n",
              "        vertical-align: middle;\n",
              "    }\n",
              "\n",
              "    .dataframe tbody tr th {\n",
              "        vertical-align: top;\n",
              "    }\n",
              "\n",
              "    .dataframe thead th {\n",
              "        text-align: right;\n",
              "    }\n",
              "</style>\n",
              "<table border=\"1\" class=\"dataframe\">\n",
              "  <thead>\n",
              "    <tr style=\"text-align: right;\">\n",
              "      <th></th>\n",
              "      <th>Период</th>\n",
              "      <th>Доходы_1_pred</th>\n",
              "      <th>Доходы_2_pred</th>\n",
              "      <th>Общий_доход_pred</th>\n",
              "    </tr>\n",
              "  </thead>\n",
              "  <tbody>\n",
              "    <tr>\n",
              "      <th>36</th>\n",
              "      <td>2022-01-01</td>\n",
              "      <td>1.115636e+07</td>\n",
              "      <td>3.226852e+06</td>\n",
              "      <td>1.438321e+07</td>\n",
              "    </tr>\n",
              "    <tr>\n",
              "      <th>37</th>\n",
              "      <td>2022-02-01</td>\n",
              "      <td>1.139636e+07</td>\n",
              "      <td>3.213068e+06</td>\n",
              "      <td>1.460943e+07</td>\n",
              "    </tr>\n",
              "    <tr>\n",
              "      <th>38</th>\n",
              "      <td>2022-03-01</td>\n",
              "      <td>1.163531e+07</td>\n",
              "      <td>3.199538e+06</td>\n",
              "      <td>1.483485e+07</td>\n",
              "    </tr>\n",
              "    <tr>\n",
              "      <th>39</th>\n",
              "      <td>2022-04-01</td>\n",
              "      <td>1.187329e+07</td>\n",
              "      <td>3.186256e+06</td>\n",
              "      <td>1.505954e+07</td>\n",
              "    </tr>\n",
              "    <tr>\n",
              "      <th>40</th>\n",
              "      <td>2022-05-01</td>\n",
              "      <td>1.211037e+07</td>\n",
              "      <td>3.173219e+06</td>\n",
              "      <td>1.528358e+07</td>\n",
              "    </tr>\n",
              "    <tr>\n",
              "      <th>41</th>\n",
              "      <td>2022-06-01</td>\n",
              "      <td>1.234662e+07</td>\n",
              "      <td>3.160421e+06</td>\n",
              "      <td>1.550704e+07</td>\n",
              "    </tr>\n",
              "  </tbody>\n",
              "</table>\n",
              "</div>"
            ],
            "text/plain": [
              "       Период  Доходы_1_pred  Доходы_2_pred  Общий_доход_pred\n",
              "36 2022-01-01   1.115636e+07   3.226852e+06      1.438321e+07\n",
              "37 2022-02-01   1.139636e+07   3.213068e+06      1.460943e+07\n",
              "38 2022-03-01   1.163531e+07   3.199538e+06      1.483485e+07\n",
              "39 2022-04-01   1.187329e+07   3.186256e+06      1.505954e+07\n",
              "40 2022-05-01   1.211037e+07   3.173219e+06      1.528358e+07\n",
              "41 2022-06-01   1.234662e+07   3.160421e+06      1.550704e+07"
            ]
          },
          "execution_count": 19,
          "metadata": {},
          "output_type": "execute_result"
        }
      ],
      "source": [
        "y = pd.DataFrame(data)\n",
        "y"
      ]
    },
    {
      "cell_type": "code",
      "execution_count": 20,
      "metadata": {},
      "outputs": [],
      "source": [
        "y.to_csv('submit_project_1_Akhymbek_Ali')"
      ]
    }
  ],
  "metadata": {
    "colab": {
      "provenance": []
    },
    "kernelspec": {
      "display_name": "Python 3",
      "name": "python3"
    },
    "language_info": {
      "codemirror_mode": {
        "name": "ipython",
        "version": 3
      },
      "file_extension": ".py",
      "mimetype": "text/x-python",
      "name": "python",
      "nbconvert_exporter": "python",
      "pygments_lexer": "ipython3",
      "version": "3.9.1"
    }
  },
  "nbformat": 4,
  "nbformat_minor": 0
}
